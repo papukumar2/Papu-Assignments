{
 "cells": [
  {
   "cell_type": "code",
   "execution_count": null,
   "id": "60013a10",
   "metadata": {},
   "outputs": [],
   "source": [
    "#  What is File function in python? What is keywords to create and write file\n",
    "# a file object allows us to use access and manipulate all the user accesible file\n",
    "# to creat a file\n",
    "with open('new3.txt','w') as f3:\n",
    "    print(f3.write('this is a example of creat and write a file'))"
   ]
  },
  {
   "cell_type": "code",
   "execution_count": null,
   "id": "f4b4f638",
   "metadata": {},
   "outputs": [],
   "source": [
    "# Write a Python program to read an entire text file.\n",
    "with open('new3.txt') as f3:\n",
    "    print(f3.read())"
   ]
  },
  {
   "cell_type": "code",
   "execution_count": null,
   "id": "5d63150e",
   "metadata": {},
   "outputs": [],
   "source": [
    "# Write a Python program to append text to a file and display the text.\n",
    "with open('new3.txt','w') as f3:\n",
    "    f3.write('this is a append text mode')\n",
    "with open('new3.txt') as f3:\n",
    "    print(f3.read())"
   ]
  },
  {
   "cell_type": "code",
   "execution_count": null,
   "id": "90de6060",
   "metadata": {},
   "outputs": [],
   "source": [
    "# Write a Python program to read first n lines of a file.\n",
    "n=int(input())\n",
    "with open('new3.txt') as f2:\n",
    "    for i in f2:\n",
    "        print(i)\n",
    "    "
   ]
  },
  {
   "cell_type": "code",
   "execution_count": null,
   "id": "6cb052ec",
   "metadata": {},
   "outputs": [],
   "source": [
    "# Write a Python program to read a file line by line and store it into a list\n",
    "with open('new.txt') as f:\n",
    "    print(f.readlines())"
   ]
  },
  {
   "cell_type": "code",
   "execution_count": null,
   "id": "31dbc134",
   "metadata": {},
   "outputs": [],
   "source": [
    "# Write a Python program to read a file line by line store it into a variable.\n",
    "with open('new.txt') as f:\n",
    "    var1=f.readlines()\n",
    "    print(var1)"
   ]
  },
  {
   "cell_type": "code",
   "execution_count": null,
   "id": "766e9fab",
   "metadata": {},
   "outputs": [],
   "source": [
    "# Write a python program to find the longest words.\n",
    "with open('new3.txt') as f3:\n",
    "    words=f3.read().split()\n",
    "#     print(words)\n",
    "ml=len(max(words,key=len))\n",
    "# print(ml)\n",
    "for i in words:\n",
    "    if len(i)==ml:\n",
    "        print(i)"
   ]
  },
  {
   "cell_type": "code",
   "execution_count": null,
   "id": "b47127ac",
   "metadata": {},
   "outputs": [],
   "source": [
    "#  Write a Python program to count the number of lines in a text file.\n",
    "with open('new.txt') as f:\n",
    "    lines=f.readlines()\n",
    "for (i,j) in enumerate(lines):\n",
    "    pass\n",
    "#     print(i)\n",
    "print(i+1)"
   ]
  },
  {
   "cell_type": "code",
   "execution_count": null,
   "id": "5f679602",
   "metadata": {},
   "outputs": [],
   "source": [
    "#  Write a Python program to count the number of lines in a text file.\n",
    "with open('new3.txt') as f3:\n",
    "    words=f3.read().split()\n",
    "for (i,j) in enumerate(words):\n",
    "    pass\n",
    "print(i+1)"
   ]
  },
  {
   "cell_type": "code",
   "execution_count": null,
   "id": "dec3db80",
   "metadata": {},
   "outputs": [],
   "source": [
    "# Write a Python program to write a list to a file.\n",
    "list1=['this', 'is', 'a', 'python', 'languagge', 'mode']\n",
    "with open('new3.txt','w') as l1:\n",
    "    for i in list1:\n",
    "        l1.write(i)\n",
    "# with open('new3.txt') as l3:\n",
    "#     print(l3.read())"
   ]
  },
  {
   "cell_type": "code",
   "execution_count": null,
   "id": "555548c3",
   "metadata": {},
   "outputs": [],
   "source": [
    "# write a python program to copy the contents of a file to another file.\n"
   ]
  },
  {
   "cell_type": "code",
   "execution_count": null,
   "id": "b17bce73",
   "metadata": {},
   "outputs": [],
   "source": [
    "# Explain Exception handling? What is an Error in Python?\n",
    "# An Exception is an error that happens during the execution of a program.\n",
    "# whenever there is an error, Python generates an exception that could be handled.\n",
    "# It basically prevents the program from getting crashed"
   ]
  },
  {
   "cell_type": "code",
   "execution_count": null,
   "id": "67843959",
   "metadata": {},
   "outputs": [],
   "source": [
    "# How many except statements can a try-except block have? Name Some\n",
    "# built-in exception classes:\n",
    "# at least one except statements can a try-except block have\n",
    "# ValueError,IndexError,TypeError,AssertionError,ZeroDivisionError...etc"
   ]
  },
  {
   "cell_type": "code",
   "execution_count": null,
   "id": "729ea6f4",
   "metadata": {},
   "outputs": [],
   "source": [
    "# When will the else part of try-except-else be executed?\n",
    "# when no exception occure"
   ]
  },
  {
   "cell_type": "code",
   "execution_count": null,
   "id": "edd48cfc",
   "metadata": {},
   "outputs": [],
   "source": [
    "# Can one block of except statements handle multiple exception?\n",
    "# In Python, try-except blocks can be used to catch and respond to one or multiple exceptions\n",
    "# In cases where a process raises more than one possible exception, they can all be handled using a single except clause."
   ]
  },
  {
   "cell_type": "code",
   "execution_count": null,
   "id": "d04d86c0",
   "metadata": {},
   "outputs": [],
   "source": [
    "#  When is the finally block executed?\n",
    "# no matter if the try block raises an error or not"
   ]
  },
  {
   "cell_type": "code",
   "execution_count": null,
   "id": "0e07e7f7",
   "metadata": {},
   "outputs": [],
   "source": [
    "# How Do You Handle Exceptions With Try/Except/Finally In Python?\n",
    "# Explain with coding snippets.\n",
    "try:\n",
    "    a= int(input())\n",
    "    print(10/a)\n",
    "except ValueError:\n",
    "    print('you have entered a float value pleas enter a int value')\n",
    "    a=int(input())\n",
    "    print(10/a)\n",
    "finally :\n",
    "    print('this is a finally keyword')#it is alwyas exicuted "
   ]
  },
  {
   "cell_type": "code",
   "execution_count": null,
   "id": "4ba8589a",
   "metadata": {},
   "outputs": [],
   "source": [
    "# What happens when „1‟== 1 is executed? \n",
    "# It simply evaluates to False and does not raise any exception."
   ]
  },
  {
   "cell_type": "code",
   "execution_count": null,
   "id": "33b86083",
   "metadata": {},
   "outputs": [],
   "source": [
    "# Write python program that user to enter only odd numbers, else will raise\n",
    "# an exception\n",
    "def odd(a):\n",
    "    if a%2 !=0:\n",
    "        return a\n",
    "    else:\n",
    "        raise ValueError('pleas enter a odd number')\n",
    "odd(23)"
   ]
  },
  {
   "cell_type": "code",
   "execution_count": null,
   "id": "61552eb9",
   "metadata": {},
   "outputs": [],
   "source": []
  }
 ],
 "metadata": {
  "kernelspec": {
   "display_name": "Python 3 (ipykernel)",
   "language": "python",
   "name": "python3"
  },
  "language_info": {
   "codemirror_mode": {
    "name": "ipython",
    "version": 3
   },
   "file_extension": ".py",
   "mimetype": "text/x-python",
   "name": "python",
   "nbconvert_exporter": "python",
   "pygments_lexer": "ipython3",
   "version": "3.9.12"
  }
 },
 "nbformat": 4,
 "nbformat_minor": 5
}
