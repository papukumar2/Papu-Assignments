{
 "cells": [
  {
   "cell_type": "code",
   "execution_count": null,
   "id": "8910de8d",
   "metadata": {},
   "outputs": [],
   "source": [
    "# What is List? How will you reverse a list?\n",
    "# a list is a data type in python\n",
    "#list is ordered,indexed,muteable,allow duplicates\n",
    "#list are defined by having values between square brackets[]\n",
    "# it accept all types of data\n",
    "list1=['papu','dipu',89,[29,32]]\n",
    "list1.reverse()\n",
    "print(list1)"
   ]
  },
  {
   "cell_type": "code",
   "execution_count": null,
   "id": "35037ba9",
   "metadata": {},
   "outputs": [],
   "source": [
    "# How will you remove last object from a list?\n",
    "# to remove last object from a list we can use pop method\n",
    "list1=['papu','dipu',89,[29,32]]\n",
    "list1.pop()\n",
    "print(list1)"
   ]
  },
  {
   "cell_type": "code",
   "execution_count": null,
   "id": "21f0ae48",
   "metadata": {},
   "outputs": [],
   "source": [
    "#Suppose list1 is [2, 33, 222, 14, and 25], what is list1 [-1]?\n",
    "list1=[2,33,222,14,25]\n",
    "list1[-1]\n",
    "# it shows the last elements of string"
   ]
  },
  {
   "cell_type": "code",
   "execution_count": null,
   "id": "9faeecad",
   "metadata": {},
   "outputs": [],
   "source": [
    "#  Differentiate between append () and extend () methods?\n",
    "list1=[12,34,23,45]\n",
    "list1.append('python')#append()methods adds given whole arguments in list\n",
    "list1\n",
    "list1.extend('python')#extend()methods adds one bt one arguments in list\n",
    "list1"
   ]
  },
  {
   "cell_type": "code",
   "execution_count": null,
   "id": "2f72b69f",
   "metadata": {},
   "outputs": [],
   "source": [
    "# Write a Python function to get the largest number, smallest num and sum\n",
    "# of all from a list.\n",
    "list1=[23,45,27,43,25]\n",
    "print('largest number',':',max(list1))\n",
    "print('smallest number',':',min(list1))\n",
    "print('sum of list',':',sum(list1))"
   ]
  },
  {
   "cell_type": "code",
   "execution_count": null,
   "id": "ac6e68ff",
   "metadata": {},
   "outputs": [],
   "source": [
    "# How will you compare two lists?\n",
    "list1=[23,34,5,45,34]\n",
    "list2=[34,56,345,2,[34,6]]\n",
    "if list1==list2:\n",
    "    print('equal')\n",
    "else:\n",
    "    print('not equal')\n"
   ]
  },
  {
   "cell_type": "code",
   "execution_count": null,
   "id": "30559c1e",
   "metadata": {},
   "outputs": [],
   "source": [
    "# Write a Python program to count the number of strings where the string\n",
    "# length is 2 or more and the first and last character are same from a given\n",
    "# list of strings.\n",
    "str1=input()\n",
    "str2=0\n",
    "for i in str1:\n",
    "    if len(str1)>1 and str1[0]==str1[-1]:\n",
    "        str2+=1\n",
    "print(str2)"
   ]
  },
  {
   "cell_type": "code",
   "execution_count": null,
   "id": "beeb386d",
   "metadata": {},
   "outputs": [],
   "source": [
    "#  Write a Python program to remove duplicates from a list.\n",
    "list1=[3,4,55,3,44,5,34,6,4567,8,9,3,5,77,5,]\n",
    "for i in list1:\n",
    "    if list1.count(i)>1:\n",
    "        list1.remove(i)\n",
    "print(list1)"
   ]
  },
  {
   "cell_type": "code",
   "execution_count": null,
   "id": "4ecb5e3d",
   "metadata": {},
   "outputs": [],
   "source": [
    "# Write a Python program to check a list is empty or not.\n",
    "list1=[]\n",
    "if len(list1)==0:\n",
    "    print('list is empty')\n",
    "else:\n",
    "    print('list is not empty')"
   ]
  },
  {
   "cell_type": "code",
   "execution_count": null,
   "id": "851bc8a6",
   "metadata": {},
   "outputs": [],
   "source": [
    "#  Write a Python function that takes two lists and returns true if they have\n",
    "# at least one common member.\n",
    "list1=[3.4,42,44,54,33]\n",
    "list2=[34,345,31,45,33]\n",
    "for i in list2:\n",
    "    if i in list1:\n",
    "        print(True)\n",
    "        break\n",
    "else:\n",
    "    print(False)"
   ]
  },
  {
   "cell_type": "code",
   "execution_count": null,
   "id": "a4bc7ca5",
   "metadata": {},
   "outputs": [],
   "source": [
    "#  Write a Python program to generate and print a list of first and last 5\n",
    "# elements where the values are square of numbers between 1 and 30.\n",
    "# Write a Python program to convert a list of characters into a string."
   ]
  },
  {
   "cell_type": "code",
   "execution_count": null,
   "id": "cbac2644",
   "metadata": {},
   "outputs": [],
   "source": [
    "# Write a Python program to find the second smallest number in a list.\n",
    "list1=[23,5443,6,745,345,2,34]\n",
    "list1.sort()\n",
    "print(list1[1])"
   ]
  },
  {
   "cell_type": "code",
   "execution_count": null,
   "id": "df90cc39",
   "metadata": {},
   "outputs": [],
   "source": [
    "# Write a Python program to convert a list of characters into a string\n",
    "list1=['ld','rt','lf']\n",
    "p=''.join(list1)\n",
    "print(p)\n",
    "type(p)"
   ]
  },
  {
   "cell_type": "code",
   "execution_count": null,
   "id": "bfde9c3e",
   "metadata": {},
   "outputs": [],
   "source": [
    "# Write a Python program to get unique values from a list\n",
    "list1=[1,2,3,4,2,3]\n",
    "list2=[]\n",
    "for i in list1:\n",
    "    if i not in list2:\n",
    "        list2.append(i)\n",
    "print(list2) "
   ]
  },
  {
   "cell_type": "code",
   "execution_count": null,
   "id": "e112d4f0",
   "metadata": {},
   "outputs": [],
   "source": [
    "# Write a Python program to check whether a list contains a sub list\n",
    "a=[345,56,32,'ery',['sd',45]]\n",
    "for i in a:\n",
    "    if type(i)==list:\n",
    "        print('it is a sub list')"
   ]
  },
  {
   "cell_type": "code",
   "execution_count": null,
   "id": "7db09385",
   "metadata": {},
   "outputs": [],
   "source": [
    "#  Write a Python program to split a list into different variable\n",
    "list1=[(1,2),3,(4,5),'python']\n",
    "list1,list2,list3,list4=list1\n",
    "print(list2)\n",
    "print(list4)"
   ]
  },
  {
   "cell_type": "code",
   "execution_count": null,
   "id": "30a5476e",
   "metadata": {},
   "outputs": [],
   "source": [
    "# What is tuple? Difference between list and tuple.\n",
    "# Tuple is types of collection datatype,Tuple are used to store multiple items in a single variable.\n",
    "# in list and tuple datatype are same but one difference is list are mutable but tuple are immutable."
   ]
  },
  {
   "cell_type": "code",
   "execution_count": null,
   "id": "e887dce5",
   "metadata": {},
   "outputs": [],
   "source": [
    "# Write a Python program to create a tuple with different data types.\n",
    "tuple1=(12,'python',12.14,23,(12,32,'a'),{'d':12,12:'python'},[12,12,23,2],{12,43,54},20)\n",
    "a=tuple((12,'python',12.14,23,(12,32,'a'),{'d':12,12:'python'},[12,12,23,2],{12,43,54},23))\n",
    "print(a)"
   ]
  },
  {
   "cell_type": "code",
   "execution_count": null,
   "id": "8f9032a5",
   "metadata": {},
   "outputs": [],
   "source": [
    "# Write a Python program to create a tuple with numbers.\n",
    "tuple1=12,23,34,54,56,78,56\n",
    "print(type(tuple1))"
   ]
  },
  {
   "cell_type": "code",
   "execution_count": null,
   "id": "64c2c357",
   "metadata": {},
   "outputs": [],
   "source": [
    "# Write a Python program to convert a tuple to a string.\n",
    "tuple1=('p','y','t','h','o','n')\n",
    "str1=''\n",
    "for i in tuple1:\n",
    "    str1=str1+i\n",
    "print(str1)"
   ]
  },
  {
   "cell_type": "code",
   "execution_count": null,
   "id": "c63d95a8",
   "metadata": {},
   "outputs": [],
   "source": [
    "# Write a Python program to check whether an element exists within a\n",
    "# tuple.\n",
    "tuple1=(1,12,21,'python','a',23)\n",
    "for i in tuple1:\n",
    "    print(i in tuple1)"
   ]
  },
  {
   "cell_type": "code",
   "execution_count": null,
   "id": "bde1d11b",
   "metadata": {},
   "outputs": [],
   "source": [
    "# Write a Python program to find the length of a tuple.\n",
    "tuple1=(1,12,21,'python','a',23)\n",
    "print(len(tuple1))"
   ]
  },
  {
   "cell_type": "code",
   "execution_count": null,
   "id": "4b458c8f",
   "metadata": {},
   "outputs": [],
   "source": [
    "# Write a Python program to convert a list to a tuple.\n",
    "list1=[12,32,(12,43,34.3,'python',2),{23,43},12.3,'java',['a','b',23,3],23,45]\n",
    "tuple1=tuple(list1)\n",
    "print(tuple1)"
   ]
  },
  {
   "cell_type": "code",
   "execution_count": null,
   "id": "53bb18a7",
   "metadata": {},
   "outputs": [],
   "source": [
    "# Write a Python program to reverse a tuple.\n",
    "tuple1=(1,12,21,'python','a',23)\n",
    "# print(tuple1[::-1])\n",
    "list1=list(tuple1)\n",
    "list1.reverse()\n",
    "print(tuple(list1))"
   ]
  },
  {
   "cell_type": "code",
   "execution_count": null,
   "id": "a3585faf",
   "metadata": {},
   "outputs": [],
   "source": [
    "# Write a Python program to replace last value of tuples in a list.\n",
    "tuple1=[(1,12,21),(122,34,32),(23,43,54),(34,64,45)]\n",
    "res=[i[:-1]+(200,) for i in tuple1]     # list comprehension\n",
    "print(res)"
   ]
  },
  {
   "cell_type": "code",
   "execution_count": null,
   "id": "0894343a",
   "metadata": {},
   "outputs": [],
   "source": [
    "# Write a Python program to find the repeated items of a tuple.\n",
    "tuple1=(12,32,23,12,32,25,24,42,25,25)\n",
    "l1=()\n",
    "for i in tuple1:\n",
    "    if tuple1.count(i)>1:\n",
    "        continue\n",
    "    print(i)"
   ]
  },
  {
   "cell_type": "code",
   "execution_count": null,
   "id": "c0e9ee8a",
   "metadata": {},
   "outputs": [],
   "source": [
    "# Write a Python program to remove an empty tuple(s) from a list of tuples.\n",
    "tuple1=[12,23,(),(12,23,43),(),23.23,(),23,23]\n",
    "val=[i for i in tuple1 if i]\n",
    "print(val)"
   ]
  },
  {
   "cell_type": "code",
   "execution_count": 3,
   "id": "35ac0a71",
   "metadata": {},
   "outputs": [
    {
     "name": "stdout",
     "output_type": "stream",
     "text": [
      "[12]\n"
     ]
    }
   ],
   "source": [
    "# Write a Python program to unzip a list of tuples into individual lists.\n",
    "tuple1=[(12,),(23,),(12,34),(12,23,43),(2,3,4),23.23]\n",
    "(s1,s2,s3,s4,s5,s6)=tuple1\n",
    "s1=list(s1)\n",
    "s2=list(s2)\n",
    "print(s1)"
   ]
  },
  {
   "cell_type": "code",
   "execution_count": null,
   "id": "58964e1e",
   "metadata": {},
   "outputs": [],
   "source": [
    "# Write a Python program to convert a list of tuples into a dictionary.\n",
    "list1=[(12,'python'),(122,'java'),('php',12),(123,'javascript')]\n",
    "dict1=dict(list1)\n",
    "print(dict1)"
   ]
  },
  {
   "cell_type": "code",
   "execution_count": null,
   "id": "b4c366df",
   "metadata": {},
   "outputs": [],
   "source": [
    "# How will you create a dictionary using tuples in python.\n",
    "tuple1=((12,'python'),(122,'java'),('php',12),(123,'javascript'))\n",
    "print(dict(tuple1))"
   ]
  },
  {
   "cell_type": "code",
   "execution_count": null,
   "id": "b6edf7d0",
   "metadata": {},
   "outputs": [],
   "source": [
    "# Write a Python script to sort (descending) a dictionary by value.\n",
    "d1={'python':12,'java':14,'php':55,'.net':23,'javascript':43}\n",
    "a= sorted(d1.items(),key=lambda v:v[1],reverse=True)\n",
    "#print(a)\n",
    "res={k:v for k,v in a}\n",
    "print(res)"
   ]
  },
  {
   "cell_type": "code",
   "execution_count": null,
   "id": "78d3293a",
   "metadata": {},
   "outputs": [],
   "source": [
    "# Write a Python script to concatenate following dictionaries to create a new one.\n",
    "dict1={12:'python',123:'java'}\n",
    "dict2={'.net':123,'php':321}\n",
    "dict4={12:12,'python':'python','java':'java'}\n",
    "dict3={}\n",
    "for i in (dict1,dict2,dict4):\n",
    "    dict3.update(i)\n",
    "print(dict3)"
   ]
  },
  {
   "cell_type": "code",
   "execution_count": null,
   "id": "cb411707",
   "metadata": {},
   "outputs": [],
   "source": [
    "# Write a Python script to concatenate following dictionaries to create a new one.\n",
    "dict1={12:'python',123:'java'}\n",
    "dict2={'.net':123,'php':321}\n",
    "dict4={12:12,'python':'python','java':'java'}\n",
    "dict3={}\n",
    "for i in (dict1,dict2,dict4):\n",
    "    dict3.update(i)\n",
    "print(dict3)"
   ]
  },
  {
   "cell_type": "code",
   "execution_count": null,
   "id": "99ff0fe3",
   "metadata": {},
   "outputs": [],
   "source": [
    "# Write a Python script to check if a given key already exists in a dictionary.\n",
    "d = {1: 10, 2: 20, 3: 30, 4: 40, 5: 50, 6: 60}\n",
    "key=int(input('enter the keys :'))\n",
    "if key in d:\n",
    "    print('key present in dict')\n",
    "else:\n",
    "    print('key not present in dict')"
   ]
  },
  {
   "cell_type": "code",
   "execution_count": null,
   "id": "30abca58",
   "metadata": {},
   "outputs": [],
   "source": [
    "# How Do You Check The Presence Of A Key In A Dictionary?\n",
    "d = {1: 10, 2: 20, 3: 30, 4: 40, 5: 50, 6: 60}\n",
    "key=int(input('enter the keys :'))\n",
    "if key in d:\n",
    "    print('key present in dict')\n",
    "else:\n",
    "    print('key not present in dict')\n"
   ]
  },
  {
   "cell_type": "code",
   "execution_count": null,
   "id": "86e07fc1",
   "metadata": {},
   "outputs": [],
   "source": [
    "# How Do You Traverse Through A Dictionary Object In Python?\n",
    "dict1={'a':12,'j':14,'p':55,'n':23,'v':43}\n",
    "for i in dict1:\n",
    "    print(i,dict1[i])"
   ]
  },
  {
   "cell_type": "code",
   "execution_count": 2,
   "id": "8ddbd2cc",
   "metadata": {},
   "outputs": [
    {
     "name": "stdout",
     "output_type": "stream",
     "text": [
      "{1: 3, 2: 4, 3: 5, 4: 6, 5: 7, 6: 8, 7: 9, 8: 10, 9: 11, 10: 12, 11: 13, 12: 14, 13: 15, 14: 16, 15: 17}\n"
     ]
    }
   ],
   "source": [
    "# Write a Python script to print a dictionary where the keys are numbers between 1 and 15.\n",
    "d=dict()\n",
    "for i in range(1,16):\n",
    "    d[i]=i+2\n",
    "print(d)"
   ]
  },
  {
   "cell_type": "code",
   "execution_count": null,
   "id": "53ab6e23",
   "metadata": {},
   "outputs": [],
   "source": [
    "# Write a Python program to check multiple keys exists in a dictionary.\n",
    "dict1={'python':12,'java':14,'php':55,'.net':23,'javascript':43,12:42}\n",
    "s1={'python','java','javascript',12}\n",
    "if dict1.keys()>=s1:\n",
    "    print('true')\n",
    "else:\n",
    "    print('false')"
   ]
  },
  {
   "cell_type": "code",
   "execution_count": null,
   "id": "0d720c74",
   "metadata": {},
   "outputs": [],
   "source": [
    "# Write a Python script to merge two Python dictionaries.\n",
    "dict1 = {'a': 100, 'b': 200,'c':400}\n",
    "dict2 = {'i': 300, 'j': 200,'k':500}\n",
    "dict1.update(dict2)\n",
    "print(dict1)"
   ]
  },
  {
   "cell_type": "code",
   "execution_count": null,
   "id": "a1d9bb44",
   "metadata": {},
   "outputs": [],
   "source": [
    "# Write a Python program to map two lists into a dictionary.\n",
    "dict1=['python','java','php']\n",
    "dict2=[123,32,34]\n",
    "Dict=dict(zip(dict1,dict2))\n",
    "print(Dict)"
   ]
  },
  {
   "cell_type": "code",
   "execution_count": null,
   "id": "023846d2",
   "metadata": {},
   "outputs": [],
   "source": [
    "# Write a Python program to combine two dictionary adding values for common keys.\n",
    "d1 = {'a': 100, 'b': 200, 'c':300}\n",
    "d2 = {'a': 200, 'b': 200,'d':400}\n",
    "for i in d1:\n",
    "    if i in d2:\n",
    "        d2[i]=d1[i]+d2[i]\n",
    "    else:\n",
    "        d2[i]=d1[i]\n",
    "print(d2,)"
   ]
  },
  {
   "cell_type": "code",
   "execution_count": null,
   "id": "2d3e91a2",
   "metadata": {},
   "outputs": [],
   "source": [
    "# Write a Python program to print all unique values in a dictionary.\n",
    "dict1={'python':123,'java':23,'php':23,'hello':12,'.net':43,'javascript':43}\n",
    "s=set(dict1.values())\n",
    "print(s)"
   ]
  },
  {
   "cell_type": "code",
   "execution_count": null,
   "id": "396af263",
   "metadata": {},
   "outputs": [],
   "source": [
    "# Why Do You Use the Zip () Method in Python ?\n",
    "# zip() function creates an iterator that will aggregate elements from two or more iterables.\n",
    "l1=['a','b','c','d']\n",
    "l2=[12,23,21,43]\n",
    "print(dict(zip(l1,l2)))"
   ]
  },
  {
   "cell_type": "code",
   "execution_count": 1,
   "id": "4eb7fb00",
   "metadata": {},
   "outputs": [
    {
     "name": "stdout",
     "output_type": "stream",
     "text": [
      "ac\n",
      "ad\n",
      "bc\n",
      "bd\n"
     ]
    }
   ],
   "source": [
    "# Write a Python program to create and display all combinations of letters,\n",
    "# selecting each letter from a different key in a dictionary.\n",
    "# Sample data: {'1': ['a','b'], '2': ['c','d']}\n",
    "# Expected Output:\n",
    "# ac ad bc bd\n",
    "a={'1':['a','b'], '2':['c','d']}\n",
    "d=list(a.values())\n",
    "# print(d)\n",
    "for i in d[0]:\n",
    "    for j in d[1]:\n",
    "        print(i+j)"
   ]
  },
  {
   "cell_type": "code",
   "execution_count": 4,
   "id": "f7d0af59",
   "metadata": {},
   "outputs": [
    {
     "name": "stdout",
     "output_type": "stream",
     "text": [
      "{'e': 254, 'c': 321, 'f': 675}\n"
     ]
    }
   ],
   "source": [
    "# Write a Python program to find the highest 3 values in a dictionary.\n",
    "d1={'a':123,'b':234,'c':321,'d':213,'e':254,'f':675}\n",
    "a= sorted(d1.items(),key=lambda v:v[1])\n",
    "# print(a)\n",
    "res={k:v for k,v in a}\n",
    "q=list(res.items())\n",
    "a=q[-3:]\n",
    "print(dict(a))"
   ]
  },
  {
   "cell_type": "code",
   "execution_count": null,
   "id": "30ff4893",
   "metadata": {},
   "outputs": [],
   "source": [
    "# Write a Python function to calculate the factorial of a number (a nonnegative integer)\n",
    "def factorial(var1):\n",
    "    n=1\n",
    "    for i in range(1,var1+1):\n",
    "        n=n*i\n",
    "    return n\n",
    "factorial(4)"
   ]
  },
  {
   "cell_type": "code",
   "execution_count": null,
   "id": "b318a5f7",
   "metadata": {},
   "outputs": [],
   "source": [
    "# Write a Python function to check whether a number is in a given range.\n",
    "def num(n):\n",
    "    if n in range(1,9):\n",
    "        return print(n,'is in the range')\n",
    "    else:\n",
    "        print('no')\n",
    "num(5)"
   ]
  },
  {
   "cell_type": "code",
   "execution_count": null,
   "id": "5ff204a1",
   "metadata": {},
   "outputs": [],
   "source": [
    "# Write a Python function to check whether a number is perfect or not.\n",
    "n=int(input('enter the number:'))     # 6,28,4496,8128 :-perfect number\n",
    "sum = 0                               \n",
    "for x in range(1, n):\n",
    "    if n % x == 0:\n",
    "        sum += x\n",
    "# print(sum)\n",
    "if sum==n:\n",
    "    print( n,'is perfect number')\n",
    "else:\n",
    "    print(n,'not perfect number')"
   ]
  },
  {
   "cell_type": "code",
   "execution_count": null,
   "id": "bb2a4f57",
   "metadata": {},
   "outputs": [],
   "source": [
    "# What is lambda function in python? What we call a function which is incomplete version of a function?\n",
    "\n",
    "\n",
    "# Lambda Function, also referred to as ‘Anonymous function’ is same as a regular python function but can be \n",
    "# it is define with lambda keyword.\n",
    "# because they are handy and short.\n",
    "# single expression, can be multiple parameters.\n",
    "\n",
    "var1=lambda a,b:a*b\n",
    "a=var1(9,4)\n",
    "print(a)"
   ]
  },
  {
   "cell_type": "code",
   "execution_count": null,
   "id": "0dcb7488",
   "metadata": {},
   "outputs": [],
   "source": [
    "# How Many Basic Types Of Functions Are Available In Python?\n",
    "# there are three basic type of function.\n",
    "# 1.built-in function :- print(),type(),len(),all(),any(),filter(),eval() and enumerate()\n",
    "# 2.user define function :- user needs to define and call also\n",
    "# 3.anonymous function :- lambda function"
   ]
  },
  {
   "cell_type": "code",
   "execution_count": null,
   "id": "f91f55e7",
   "metadata": {},
   "outputs": [],
   "source": [
    "# Write a Python program to convert degree to radian.\n",
    "degree=float(input('enter the degree:'))\n",
    "pi=3.14\n",
    "radian=degree*(pi/180)\n",
    "print('the radian is =',radian)"
   ]
  },
  {
   "cell_type": "code",
   "execution_count": null,
   "id": "cbbbd1b8",
   "metadata": {},
   "outputs": [],
   "source": [
    "# Write a Python program to calculate the area of a trapezoid.\n",
    "a=float(input('enter the first base:'))\n",
    "b=float(input('enter the second base:'))\n",
    "height=float(input('enter the height:'))     \n",
    "area=((a+b)/2)*height                            # area of trapezoid=((a+b)/2)*height\n",
    "print('area of trapezoid=',area)"
   ]
  },
  {
   "cell_type": "code",
   "execution_count": null,
   "id": "93d5d164",
   "metadata": {},
   "outputs": [],
   "source": [
    "# Write a Python program to calculate the area of a parallelogram.\n",
    "# area=A=h*b\n",
    "base=float(input('enter the base:'))\n",
    "height=float(input('enter the height:'))\n",
    "area=base*height\n",
    "print('area of parallelogram=',area)"
   ]
  },
  {
   "cell_type": "code",
   "execution_count": null,
   "id": "28e7444f",
   "metadata": {},
   "outputs": [],
   "source": [
    "# Write a Python program to calculate surface volume and area of a cylinder,\n",
    "# area of cylinder=A=(2*pi*r*h)+(2*pi*r*r)\n",
    "# surface volume of cylinder=pi*r*r*h\n",
    "pi=3.141\n",
    "radius=float(input('enter the radius:'))\n",
    "height=float(input('enter the height:'))\n",
    "A=(2*pi*radius*height)+(2*pi*radius*radius)\n",
    "V=pi*radius*radius*height\n",
    "print('area of cylinder=',A)\n",
    "print('volume of cylinder=',V)"
   ]
  },
  {
   "cell_type": "code",
   "execution_count": null,
   "id": "071a226e",
   "metadata": {},
   "outputs": [],
   "source": [
    "# Write a Python program to find the maximum and minimum numbers from the specified decimal numbers.\n",
    "list_number=[2.45 ,2.69 ,2.45 ,3.45 ,2.00 ,0.04 ,7.25]\n",
    "print(min(list_number))\n",
    "print(max(list_number))"
   ]
  },
  {
   "cell_type": "code",
   "execution_count": null,
   "id": "5bc43c5c",
   "metadata": {},
   "outputs": [],
   "source": []
  },
  {
   "cell_type": "code",
   "execution_count": null,
   "id": "397f2dfa",
   "metadata": {},
   "outputs": [],
   "source": []
  },
  {
   "cell_type": "code",
   "execution_count": null,
   "id": "d03c1d70",
   "metadata": {},
   "outputs": [],
   "source": []
  }
 ],
 "metadata": {
  "kernelspec": {
   "display_name": "Python 3 (ipykernel)",
   "language": "python",
   "name": "python3"
  },
  "language_info": {
   "codemirror_mode": {
    "name": "ipython",
    "version": 3
   },
   "file_extension": ".py",
   "mimetype": "text/x-python",
   "name": "python",
   "nbconvert_exporter": "python",
   "pygments_lexer": "ipython3",
   "version": "3.9.12"
  }
 },
 "nbformat": 4,
 "nbformat_minor": 5
}
