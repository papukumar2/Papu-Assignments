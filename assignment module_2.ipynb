{
 "cells": [
  {
   "cell_type": "code",
   "execution_count": null,
   "id": "56d78777",
   "metadata": {},
   "outputs": [],
   "source": [
    "#write a program to chacke a number is posetive,negetive  or zero\n",
    "a=int(input())\n",
    "if a>0:\n",
    "    print('Posetive')\n",
    "elif a<0:\n",
    "    print('Negetive')\n",
    "else:\n",
    "    print('zero')"
   ]
  },
  {
   "cell_type": "code",
   "execution_count": null,
   "id": "6af24df0",
   "metadata": {},
   "outputs": [],
   "source": [
    "#write a program get the factorial of a given number\n",
    "a=int(input())\n",
    "fact=1\n",
    "while a>0:\n",
    "    fact=fact*a\n",
    "    a-=1\n",
    "print(fact)"
   ]
  },
  {
   "cell_type": "code",
   "execution_count": null,
   "id": "03b211c0",
   "metadata": {},
   "outputs": [],
   "source": [
    "#write a program to test whether a passed latter is vowel or not\n",
    "lat=input()\n",
    "if lat=='a'or lat=='e' or lat== 'i' or lat=='o' or lat=='u'or lat=='A' or lat=='E' or lat=='I' or lat=='O' or lat=='U':\n",
    "    print('vowel')\n",
    "else:\n",
    "    print('it is not vowel')\n"
   ]
  },
  {
   "cell_type": "code",
   "execution_count": null,
   "id": "c0f81689",
   "metadata": {},
   "outputs": [],
   "source": [
    "#write a program to get the fibonacci series of given range\n",
    "a=int(input())\n",
    "x=0\n",
    "y=1\n",
    "z=0\n",
    "while a>=z:\n",
    "    print(z)\n",
    "    x,y=y,z\n",
    "    z=x+y"
   ]
  },
  {
   "cell_type": "code",
   "execution_count": null,
   "id": "07657853",
   "metadata": {},
   "outputs": [],
   "source": [
    "#write a program to swap two number with temp veriable and without temp veriable\n",
    "#with temp veriable\n",
    "a=45\n",
    "b=54\n",
    "\n",
    "temp=a \n",
    "a=b\n",
    "b=temp\n",
    "print(a)\n",
    "print(b)\n",
    "\n",
    "#without temp veriable\n",
    "a=45\n",
    "b=54\n",
    "a,b=b,a\n",
    "print(a)\n",
    "print(b)"
   ]
  },
  {
   "cell_type": "code",
   "execution_count": null,
   "id": "0b7dc3fe",
   "metadata": {},
   "outputs": [],
   "source": [
    "#write a program to checke a number is even or od print a appropiat massege to the user\n",
    "a=int(input())\n",
    "if a%2==0:\n",
    "    print('Even')\n",
    "elif a%2!=0:\n",
    "    print('Odd')"
   ]
  },
  {
   "cell_type": "code",
   "execution_count": null,
   "id": "9eb5c04f",
   "metadata": {},
   "outputs": [],
   "source": [
    "#write a program to sum of three given intiger hoewv,if two integers values are equal sum will be zero\n",
    "a=int(input())\n",
    "b=int(input())\n",
    "c=int(input())\n",
    "sum=a+b+c\n",
    "if a==b or b==c or c==a:\n",
    "    print('0')\n",
    "else:\n",
    "    print(sum)"
   ]
  },
  {
   "cell_type": "code",
   "execution_count": null,
   "id": "d9fc6b07",
   "metadata": {},
   "outputs": [],
   "source": [
    "#write a python program that will return true if the two given integers values are equal or sum and difference is 5\n",
    "a=int(input())\n",
    "b=int(input())\n",
    "if a==b or a+b==5 or a-b==5:\n",
    "    print('True')\n",
    "else:\n",
    "    print('False')"
   ]
  },
  {
   "cell_type": "code",
   "execution_count": null,
   "id": "ccb094ed",
   "metadata": {},
   "outputs": [],
   "source": [
    "#write a program to sum of the first n posetive integers\n",
    "n=int(input())\n",
    "a=1\n",
    "sum=0\n",
    "while a<=n:\n",
    "    sum=sum+a\n",
    "    a+=1\n",
    "print(sum)"
   ]
  },
  {
   "cell_type": "code",
   "execution_count": null,
   "id": "27177648",
   "metadata": {},
   "outputs": [],
   "source": [
    "#Write a Python program to calculate the length of a string.\n",
    "str1=input()\n",
    "len(str1)"
   ]
  },
  {
   "cell_type": "code",
   "execution_count": null,
   "id": "59f4676b",
   "metadata": {},
   "outputs": [],
   "source": [
    " # What are negative indexes and why are they used ?\n",
    "# The negative index is start from last charecter of a string and it's index value is -1\n",
    "#if we need index value from right to left we should negetive indexing\n",
    "#if we want to print reverse of a string we can use nagetive index\n",
    "a='papu kumar'\n",
    "print(a[::-1])"
   ]
  },
  {
   "cell_type": "code",
   "execution_count": 3,
   "id": "b85a075d",
   "metadata": {},
   "outputs": [
    {
     "name": "stdout",
     "output_type": "stream",
     "text": [
      "google\n",
      "g 2\n",
      "o 2\n",
      "l 1\n",
      "e 1\n"
     ]
    }
   ],
   "source": [
    "#write a program to count rhe charecter frequancy of a given string\n",
    "str1=input()\n",
    "s=''\n",
    "for i in str1:\n",
    "    if i not in s:\n",
    "        s+=i\n",
    "        print(i,str1.count(i))"
   ]
  },
  {
   "cell_type": "code",
   "execution_count": null,
   "id": "a6567447",
   "metadata": {},
   "outputs": [],
   "source": [
    " #Write a Python program to count the occurrences of each word in a given sentence\n",
    "str1=input()\n",
    "em=str1.split(' ')\n",
    "s=''\n",
    "for i in em:\n",
    "    if i not in s:\n",
    "        s+=i\n",
    "        print(i,str1.count(i))"
   ]
  },
  {
   "cell_type": "code",
   "execution_count": null,
   "id": "73a7b3fc",
   "metadata": {},
   "outputs": [],
   "source": [
    "# Write a Python program to count occurrences of a substring in a string.\n",
    "a=input()\n",
    "print('number of substring',len(a))"
   ]
  },
  {
   "cell_type": "code",
   "execution_count": null,
   "id": "3e709da4",
   "metadata": {},
   "outputs": [],
   "source": [
    "# Write a Python program to get a single string from two given strings,\n",
    "# separated by a space and swap the first two characters of each string.\n",
    "a=input()\n",
    "b=input()\n",
    "c=a[:2]+b[2:]\n",
    "d=b[:2]+a[2:]\n",
    "e=d+' '+c\n",
    "print(e)\n",
    "#print(d)"
   ]
  },
  {
   "cell_type": "code",
   "execution_count": null,
   "id": "b787be61",
   "metadata": {},
   "outputs": [],
   "source": [
    "#  Write a Python program to add 'ing' at the end of a given string (lengthshould be at least 3).\n",
    "#If the given string already ends with 'ing' then add 'ly'\n",
    "# insteadif the string length of the given string is less than 3, leave itunchanged.\n",
    "a=input()\n",
    "if len(a)>2:\n",
    "    if a[-3:]=='ing':\n",
    "        a+='ly'\n",
    "    else:\n",
    "        a+='ing'\n",
    "print(a)        "
   ]
  },
  {
   "cell_type": "code",
   "execution_count": null,
   "id": "838d31e0",
   "metadata": {},
   "outputs": [],
   "source": [
    "# Write a Python program to find the first appearance of the substring 'not'\n",
    "# and 'poor' froma given string, if 'not' follows the 'poor', replace the whole\n",
    "# 'not'...'poor'substring with 'good'. Return the resulting string.\n",
    "str1=input()\n",
    "n=str1.find('not')\n",
    "p=str1.find('poor')\n",
    "\n",
    "a=str1.replace(str1[n:p+4],'good')\n",
    "print(a)"
   ]
  },
  {
   "cell_type": "code",
   "execution_count": null,
   "id": "dc81e4f5",
   "metadata": {},
   "outputs": [],
   "source": [
    "# Write a Python program to find the first appearance of the substring 'not' and 'poor'\n",
    "# froma given string, if 'not' follows the 'poor', replace the whole'not'...'poor'\n",
    "# substring with 'good'. Return the resulting string.\n",
    "str1=input()\n",
    "for i in range(str1.count('not')):\n",
    "    if str1.find('not')<str1.find('poor'):\n",
    "        start_point=str1.find('not')\n",
    "        end_point=str1.find('poor')+4\n",
    "        to_be_replace=str1[start_point:end_point]\n",
    "        replacement='good'\n",
    "        str1=str1.replace(to_be_replace,replacement)\n",
    "    else:\n",
    "        str1=str1\n",
    "print(str1)"
   ]
  },
  {
   "cell_type": "code",
   "execution_count": null,
   "id": "b519d152",
   "metadata": {},
   "outputs": [],
   "source": [
    "# Write a Python function that takes a list of words and returns the length of the longest one.\n",
    "a=input()\n",
    "b=a.split()\n",
    "c=len(b[0])\n",
    "for i in b:\n",
    "    if len(i)>c:\n",
    "        c=len(i)\n",
    "print(i,c)"
   ]
  },
  {
   "cell_type": "code",
   "execution_count": null,
   "id": "8ca0479e",
   "metadata": {},
   "outputs": [],
   "source": [
    "# Write a Python function to reverses a string if its length is a multiple of 4.\n",
    "a=input('enter the string:')\n",
    "if len(a)%4==0:\n",
    "    print(a[::-1])\n",
    "else:\n",
    "    print(a)"
   ]
  },
  {
   "cell_type": "code",
   "execution_count": null,
   "id": "13b83d82",
   "metadata": {},
   "outputs": [],
   "source": [
    "# Write a Python program to get a string made of the first 2 and the last 2\n",
    "# chars from a given a string. If the string length is less than 2,return instead\n",
    "# of the empty string.\n",
    "\n",
    "  # Sample String:w3resource'\n",
    "  # Expected Result: 'w3ce'\n",
    "  # Sample String: 'w3'\n",
    "  # Expected Result: 'w3w3'\n",
    "  # Sample String: ' w'\n",
    "  # Expected Result: Empty String\n",
    "a=input()\n",
    "if len(a)<2:\n",
    "    print(a)\n",
    "else:\n",
    "    group=a[:2]+a[-2:]\n",
    "    print(group)"
   ]
  },
  {
   "cell_type": "code",
   "execution_count": null,
   "id": "20ac4e5f",
   "metadata": {},
   "outputs": [],
   "source": [
    "# Write a Python function to insert a string in the middle of a string.\n",
    "a=input()\n",
    "b=input()\n",
    "c=a[:2]+ b +a[2:]\n",
    "print(c)"
   ]
  }
 ],
 "metadata": {
  "kernelspec": {
   "display_name": "Python 3 (ipykernel)",
   "language": "python",
   "name": "python3"
  },
  "language_info": {
   "codemirror_mode": {
    "name": "ipython",
    "version": 3
   },
   "file_extension": ".py",
   "mimetype": "text/x-python",
   "name": "python",
   "nbconvert_exporter": "python",
   "pygments_lexer": "ipython3",
   "version": "3.9.12"
  }
 },
 "nbformat": 4,
 "nbformat_minor": 5
}
